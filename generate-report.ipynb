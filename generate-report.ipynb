{
 "cells": [
  {
   "cell_type": "code",
   "execution_count": 22,
   "id": "02abaa39",
   "metadata": {},
   "outputs": [],
   "source": [
    "import os\n",
    "import json\n",
    "from dotenv import load_dotenv\n",
    "from openai import AzureOpenAI\n",
    "\n",
    "load_dotenv()\n",
    "\n",
    "endpoint = os.getenv(\"OPENAI_ENDPOINT\")\n",
    "model_name = os.getenv(\"OPENAI_MODEL\")\n",
    "openai_key = os.getenv(\"OPENAI_API_KEY\")\n",
    "api_version = \"2024-12-01-preview\"\n",
    "\n",
    "client = AzureOpenAI(\n",
    "    api_version=api_version,\n",
    "    azure_endpoint=endpoint,\n",
    "    api_key=openai_key,\n",
    ")\n",
    "\n",
    "def generate_police_report(template_path, transcript_data, openai_client, output_path):\n",
    "    # Read the markdown template file with proper encoding\n",
    "    template_path = \"template-report.md\"\n",
    "    with open(template_path, \"r\", encoding='utf-8') as file:\n",
    "        template = file.read() \n",
    "\n",
    "    with open('transcript.json', 'r', encoding='utf-8') as file:\n",
    "        transcript_data = json.load(file)\n",
    "\n",
    "    # Extract the 'DisplayText' from each dictionary and join them into a single string\n",
    "    transcript_text = ' '.join(item['DisplayText'] for item in transcript_data if 'DisplayText' in item)\n",
    "\n",
    "    # Debug: Print the first 200 characters of both to verify they're loaded correctly\n",
    "    print(\"\\nTranscript preview:\", transcript_text[:200])\n",
    "    print(f\"\\nTemplate length: {len(template)} characters\")\n",
    "    print(f\"Transcript length: {len(transcript_text)} characters\")\n",
    "\n",
    "    response = openai_client.chat.completions.create(\n",
    "        messages=[\n",
    "            {\n",
    "                \"role\": \"system\",\n",
    "                \"content\": f\"\"\"You are a helpful assistant who generates police reports based on a transcription of a police hearing. \n",
    "\n",
    "    Your task is to:\n",
    "    1. Analyze the provided transcript carefully\n",
    "    2. Extract relevant information (names, dates, locations, events, etc.)\n",
    "    3. Fill in the template placeholders with this extracted information\n",
    "    4. Return the completed report in markdown format\n",
    "\n",
    "    Template to follow (replace ALL placeholders in brackets with actual data from the transcript):\n",
    "    {template}\n",
    "\n",
    "    IMPORTANT: Replace every placeholder like [Insert Report Number], [Insert Date], etc. with actual information from the transcript. If information is not available in the transcript, mark it as \"Not specified in transcript\" or make reasonable inferences based on the hearing content.\"\"\",\n",
    "            },\n",
    "            {\n",
    "                \"role\": \"user\", \n",
    "                \"content\": f\"\"\"Please generate a complete police report by filling in the template with information from this hearing transcript. Make sure to replace all placeholders with actual data:\n",
    "\n",
    "    TRANSCRIPT:\n",
    "    {transcript_text}\n",
    "\n",
    "    Generate the complete report with all placeholders filled in.\"\"\",\n",
    "            }\n",
    "        ],\n",
    "        max_tokens=4096,\n",
    "        temperature=0.3,  # Lower temperature for more consistent output\n",
    "        top_p=1.0,\n",
    "        model=model_name\n",
    "    )\n",
    "\n",
    "    # Get the generated report content\n",
    "    generated_report = response.choices[0].message.content\n",
    "\n",
    "    # Save the generated report to a markdown file\n",
    "    output_path = \"generated_police_report.md\"\n",
    "    try:\n",
    "        with open(output_path, 'w', encoding='utf-8') as file:\n",
    "            file.write(generated_report)\n",
    "        print(f\"\\n✅ Report successfully saved to: {output_path}\")\n",
    "    except Exception as e:\n",
    "        print(f\"\\n❌ Error saving report: {e}\")\n",
    "    return None\n"
   ]
  },
  {
   "cell_type": "code",
   "execution_count": 23,
   "id": "dcfa23ec",
   "metadata": {},
   "outputs": [
    {
     "name": "stdout",
     "output_type": "stream",
     "text": [
      "\n",
      "Transcript preview: Good morning. Can you confirm the date and time of the incident? Yes, it happened on the 5th of July at around 9:30 in the morning. Thank you. And where exactly did this incident take place? It happen\n",
      "\n",
      "Template length: 2850 characters\n",
      "Transcript length: 1826 characters\n",
      "\n",
      "✅ Report successfully saved to: generated_police_report.md\n"
     ]
    }
   ],
   "source": [
    "generate_police_report(\"template-report.md\", \"transcript.json\", client, \"generated_police_report.md\")"
   ]
  }
 ],
 "metadata": {
  "kernelspec": {
   "display_name": "base",
   "language": "python",
   "name": "python3"
  },
  "language_info": {
   "codemirror_mode": {
    "name": "ipython",
    "version": 3
   },
   "file_extension": ".py",
   "mimetype": "text/x-python",
   "name": "python",
   "nbconvert_exporter": "python",
   "pygments_lexer": "ipython3",
   "version": "3.12.7"
  }
 },
 "nbformat": 4,
 "nbformat_minor": 5
}
